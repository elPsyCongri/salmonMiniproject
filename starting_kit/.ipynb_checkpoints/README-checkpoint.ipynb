{
 "cells": [
  {
   "cell_type": "markdown",
   "metadata": {},
   "source": [
    "<i> Adapted for Chalab by Isabelle Guyon from original code of Balázs Kégl (LAL/CNRS)</i>\n",
    "\n",
    "ALL INFORMATION, SOFTWARE, DOCUMENTATION, AND DATA ARE PROVIDED \"AS-IS\". The CDS, CHALEARN, AND/OR OTHER ORGANIZERS OR CODE AUTHORS DISCLAIM ANY EXPRESSED OR IMPLIED WARRANTIES, INCLUDING, BUT NOT LIMITED TO, THE IMPLIED WARRANTIES OF MERCHANTABILITY AND FITNESS FOR ANY PARTICULAR PURPOSE, AND THE WARRANTY OF NON-INFRIGEMENT OF ANY THIRD PARTY'S INTELLECTUAL PROPERTY RIGHTS. IN NO EVENT SHALL AUTHORS AND ORGANIZERS BE LIABLE FOR ANY SPECIAL, \n",
    "INDIRECT OR CONSEQUENTIAL DAMAGES OR ANY DAMAGES WHATSOEVER ARISING OUT OF OR IN CONNECTION WITH THE USE OR PERFORMANCE OF SOFTWARE, DOCUMENTS, MATERIALS, PUBLICATIONS, OR INFORMATION MADE AVAILABLE FOR THE CHALLENGE. "
   ]
  },
  {
   "cell_type": "markdown",
   "metadata": {},
   "source": [
    "## Introduction\n",
    "\n",
    "Starting kit for the challenge Pick The Sneak Peek. This challenge consists in finding the types of some movies based on their summary."
   ]
  },
  {
   "cell_type": "code",
   "execution_count": 106,
   "metadata": {
    "collapsed": false
   },
   "outputs": [],
   "source": [
    "codedir = 'sample_code/'                        # Change this to the directory where you put the code\n",
    "from sys import path; path.append(codedir)\n",
    "%matplotlib inline\n",
    "import pandas as pd\n",
    "import numpy as np\n",
    "from tabulate import tabulate\n",
    "from time import time\n",
    "import matplotlib.pyplot as plt"
   ]
  },
  {
   "cell_type": "markdown",
   "metadata": {},
   "source": [
    "## Fetch the data and load it"
   ]
  },
  {
   "cell_type": "code",
   "execution_count": 3,
   "metadata": {
    "collapsed": false
   },
   "outputs": [
    {
     "name": "stdout",
     "output_type": "stream",
     "text": [
      "public_data/movies_feat.name\n",
      "public_data/movies_label.name\n",
      "public_data/movies_test.data\n",
      "public_data/movies_train.data\n",
      "public_data/movies_train.solution\n",
      "public_data/movies_valid.data\n"
     ]
    }
   ],
   "source": [
    "datadir = 'public_data/'                        # Change this to the directory where you put the input data\n",
    "dataname = 'movies'\n",
    "basename = datadir  + dataname\n",
    "!ls $basename*"
   ]
  },
  {
   "cell_type": "code",
   "execution_count": 4,
   "metadata": {
    "collapsed": false
   },
   "outputs": [
    {
     "name": "stdout",
     "output_type": "stream",
     "text": [
      "Info file NOT found : C:\\Users\\Gabriel\\Desktop\\starting_kit\\starting_kit\\starting_kit\\public_data\\movies_public.info\n",
      "Reading public_data\\movies_train.data...\n",
      "Converting {} to correct array\n",
      "Converting public_data\\movies_train.data to sparse list\n",
      "Reading public_data\\movies_test.data...\n",
      "Converting {} to correct array\n",
      "Converting public_data\\movies_test.data to sparse list\n",
      "Reading public_data\\movies_valid.data...\n",
      "Converting {} to correct array\n",
      "Converting public_data\\movies_valid.data to sparse list\n",
      "Reading public_data/movies_train.data...\n",
      "Converting {} to correct array\n",
      "Converting public_data/movies_train.data to sparse list\n",
      "\tConverting sparse list to dok sparse matrix\n",
      "\tConverting dok sparse matrix to csr sparse matrix\n",
      "Reading public_data/movies_valid.data...\n",
      "Converting {} to correct array\n",
      "Converting public_data/movies_valid.data to sparse list\n",
      "\tConverting sparse list to dok sparse matrix\n",
      "\tConverting dok sparse matrix to csr sparse matrix\n",
      "Reading public_data/movies_test.data...\n",
      "Converting {} to correct array\n",
      "Converting public_data/movies_test.data to sparse list\n",
      "\tConverting sparse list to dok sparse matrix\n",
      "\tConverting dok sparse matrix to csr sparse matrix\n"
     ]
    }
   ],
   "source": [
    "# Lecture des dataset\n",
    "import os\n",
    "from sys import argv, path\n",
    "run_dir = os.path.abspath(\".\")\n",
    "lib_dir = os.path.join(run_dir, \"sample_code\")\n",
    "res_dir = os.path.join(run_dir, \"res\")\n",
    "path.append (run_dir)\n",
    "path.append (lib_dir)\n",
    "import data_io                      \n",
    "from data_io import vprint           \n",
    "from data_manager import DataManager \n",
    "import data_io                      \n",
    "from data_io import vprint           \n",
    "from data_manager import DataManager \n",
    "from data_io import vprint           \n",
    "from data_manager import DataManager \n",
    "from classifier import Classifier     \n",
    "\n",
    "max_samples = 50000\n",
    "\n",
    "input_dir = datadir\n",
    "output_dir = res_dir\n",
    "\n",
    "datanames = data_io.inventory_data(input_dir)\n",
    "\n",
    "for basename in datanames:\n",
    "    D = DataManager(basename, input_dir, replace_missing=True, filter_features=True, max_samples=max_samples)\n"
   ]
  },
  {
   "cell_type": "code",
   "execution_count": 69,
   "metadata": {
    "collapsed": false
   },
   "outputs": [
    {
     "name": "stdout",
     "output_type": "stream",
     "text": [
      "Taille des ensembles\n",
      "╒════════╤══════════╤═══════════╤═══════════╕\n",
      "│        │   X_test │   X_train │   X_valid │\n",
      "╞════════╪══════════╪═══════════╪═══════════╡\n",
      "│ Taille │     5105 │     25521 │      3402 │\n",
      "╘════════╧══════════╧═══════════╧═══════════╛\n",
      "\n",
      "Proportion des labels dans l'ensemble d'entraînement: \n",
      "╒════════════╤══════════╤═════════════╤═════════════╤═════════╤═════════╤═══════════╤═════════╕\n",
      "│            │ action   │ adventure   │ animation   │ crime   │ drama   │ fantasy   │ music   │\n",
      "╞════════════╪══════════╪═════════════╪═════════════╪═════════╪═════════╪═══════════╪═════════╡\n",
      "│ Proportion │ 20%      │ 18%         │ 7%          │ 15%     │ 58%     │ 6%        │ 8%      │\n",
      "╘════════════╧══════════╧═════════════╧═════════════╧═════════╧═════════╧═══════════╧═════════╛\n",
      "╒════════════╤═══════════════╤═══════════╤═══════════════════╤═════════╤════════════╤═══════╤═══════════╕\n",
      "│            │ family film   │ mystery   │ science fiction   │ sport   │ thriller   │ war   │ western   │\n",
      "╞════════════╪═══════════════╪═══════════╪═══════════════════╪═════════╪════════════╪═══════╪═══════════╡\n",
      "│ Proportion │ 9%            │ 6%        │ 19%               │ 6%      │ 20%        │ 4%    │ 3%        │\n",
      "╘════════════╧═══════════════╧═══════════╧═══════════════════╧═════════╧════════════╧═══════╧═══════════╛\n"
     ]
    }
   ],
   "source": [
    "# Mise en place des différents datasets\n",
    "X_train = D.data['X_train']\n",
    "y_train = D.data['Y_train']\n",
    "X_valid = D.data['X_valid']\n",
    "X_test = D.data['X_test']\n",
    "\n",
    "# Statistiques sur les données\n",
    "df = pd.DataFrame({'X_train': X_train.shape[0], 'X_valid': X_valid.shape[0], 'X_test': X_test.shape[0]}, index=['Taille'])\n",
    "print \"Taille des ensembles\"\n",
    "print tabulate(df, headers='keys', tablefmt='fancy_grid')\n",
    "print\n",
    "print(\"Proportion des labels dans l'ensemble d'entraînement: \")\n",
    "\n",
    "data = sum(y_train)*1/len(y_train)\n",
    "list_genres = [\"drama\", \"action\", \"adventure\", \"animation\", \"crime\", \"fantasy\", \"music\", \n",
    "               \"mystery\", \"romance\", \"science fiction\", \"sport\", \"thriller\", \"war\", \"western\", \"family film\"]\n",
    "\n",
    "df2 = pd.DataFrame({'drama': str(int(data[0]*100))+\"%\", \n",
    "                    'action': str(int(data[1]*100))+\"%\", \n",
    "                    'adventure': str(int(data[2]*100))+\"%\", \n",
    "                    'animation': str(int(data[3]*100))+\"%\", \n",
    "                    'crime': str(int(data[4]*100))+\"%\", \n",
    "                    'fantasy': str(int(data[5]*100))+\"%\", \n",
    "                    'music': str(int(data[6]*100))+\"%\", \n",
    "                    }\n",
    "                   , index=['Proportion'])\n",
    "print tabulate(df2, headers='keys', tablefmt='fancy_grid')\n",
    "\n",
    "df3 = pd.DataFrame({'mystery': str(int(data[7]*100))+\"%\", \n",
    "                    'science fiction': str(int(data[8]*100))+\"%\", \n",
    "                    'sport': str(int(data[9]*100))+\"%\", \n",
    "                    'thriller': str(int(data[10]*100))+\"%\", \n",
    "                    'war': str(int(data[11]*100))+\"%\", \n",
    "                    'western': str(int(data[12]*100))+\"%\", \n",
    "                    'family film': str(int(data[13]*100))+\"%\"\n",
    "                    } , index=['Proportion'])\n",
    "print tabulate(df3, headers='keys', tablefmt='fancy_grid')"
   ]
  },
  {
   "cell_type": "code",
   "execution_count": null,
   "metadata": {
    "collapsed": false
   },
   "outputs": [],
   "source": []
  },
  {
   "cell_type": "markdown",
   "metadata": {},
   "source": [
    "## Building a predictive model"
   ]
  },
  {
   "cell_type": "markdown",
   "metadata": {},
   "source": [
    "The initial classifier in your starting kit (in the sample_code directory)."
   ]
  },
  {
   "cell_type": "code",
   "execution_count": 79,
   "metadata": {
    "collapsed": false
   },
   "outputs": [],
   "source": [
    "import classifier\n",
    "reload(classifier)                               # If you make changes to your code you have to reload it\n",
    "from classifier import Classifier\n",
    "Classifier??"
   ]
  },
  {
   "cell_type": "markdown",
   "metadata": {},
   "source": [
    "Train, run, and save your classifier and your predictions. If you saved a trained model and/or prediction results, the evaluation script will look for those and use those in priority [(1) use saved predictions; (2) if no predictions, use saved model, do not retrain, just test; (3) if neither, train and test model from scratch]. Compute the predictions with predict_proba, this is more versatile."
   ]
  },
  {
   "cell_type": "code",
   "execution_count": 86,
   "metadata": {
    "collapsed": false
   },
   "outputs": [
    {
     "name": "stdout",
     "output_type": "stream",
     "text": [
      "res/movies_model.pickle\n",
      "res/movies_test.predict\n",
      "res/movies_valid.predict\n"
     ]
    }
   ],
   "source": [
    "result_dir = 'res/'\n",
    "outname = result_dir + dataname\n",
    "clf = Classifier()\n",
    "clf.fit(X_train, y_train)\n",
    "Y_valid = clf.predict(X_valid) \n",
    "Y_test = clf.predict(X_test) \n",
    "clf.save(outname)\n",
    "#clf.load(outname) # Uncomment to check reloading works\n",
    "data_io.write(outname + '_valid.predict', Y_valid)\n",
    "data_io.write(outname + '_test.predict', Y_test)\n",
    "!ls $outname*"
   ]
  },
  {
   "cell_type": "markdown",
   "metadata": {},
   "source": [
    "Compute the training accuracy."
   ]
  },
  {
   "cell_type": "code",
   "execution_count": 150,
   "metadata": {
    "collapsed": false
   },
   "outputs": [],
   "source": [
    "def benchmark(clf, name):  \n",
    "    t0 = time()\n",
    "    pred = clf.predict(X_train)\n",
    "    test_time = time() - t0\n",
    "    print(\"test time:  %0.3fs\" % test_time)\n",
    "    \n",
    "    f1_micro = f1_score(y_train, pred, average=\"micro\")\n",
    "    f1_macro = f1_score(y_train, pred, average=\"macro\")\n",
    "    f1_weighted = f1_score(y_train, pred, average=\"weighted\")\n",
    "    f1_samples = f1_score(y_train, pred, average=\"samples\")\n",
    "    \n",
    "    print('F1-Score with micro compute: {0}'.format(f1_micro))\n",
    "    print('F1-Score with macro compute: {0}'.format(f1_macro))\n",
    "    print('F1-Score with weighted compute: {0}'.format(f1_weighted))\n",
    "    print('F1-Score with samples compute: {0}'.format(f1_samples))\n",
    "    print \"\\n\"\n",
    "    print classification_report(y_train, pred, target_names=list_genres)\n",
    "    \n",
    "    return name, f1_micro, f1_macro, f1_weighted, f1_samples\n",
    "\n",
    "results = []"
   ]
  },
  {
   "cell_type": "code",
   "execution_count": 95,
   "metadata": {
    "collapsed": false
   },
   "outputs": [
    {
     "name": "stdout",
     "output_type": "stream",
     "text": [
      "Class labels= [ 0  1  2  3  4  5  6  7  8  9 10 11 12 13]\n"
     ]
    }
   ],
   "source": [
    "from sklearn.metrics import f1_score, classification_report\n",
    "# Directly predicts the (categorical) class labels              \n",
    "class_labels = clf.get_classes()     \n",
    "print 'Class labels=', class_labels"
   ]
  },
  {
   "cell_type": "markdown",
   "metadata": {},
   "source": [
    "Compute F1 scores"
   ]
  },
  {
   "cell_type": "code",
   "execution_count": 151,
   "metadata": {
    "collapsed": false
   },
   "outputs": [
    {
     "name": "stdout",
     "output_type": "stream",
     "text": [
      "test time:  0.856s\n",
      "F1-Score with micro compute: 0.775694762909\n",
      "F1-Score with macro compute: 0.735497750416\n",
      "F1-Score with weighted compute: 0.776528257584\n",
      "F1-Score with samples compute: 0.761454535462\n",
      "\n",
      "\n",
      "                 precision    recall  f1-score   support\n",
      "\n",
      "          drama       0.85      0.95      0.90     14823\n",
      "         action       0.77      0.71      0.74      5120\n",
      "      adventure       0.62      0.67      0.64      4603\n",
      "      animation       0.74      0.80      0.77      1872\n",
      "          crime       0.81      0.79      0.80      3848\n",
      "        fantasy       0.43      0.71      0.54      1658\n",
      "          music       0.78      0.90      0.84      2059\n",
      "        musical       0.66      0.71      0.69      1600\n",
      "        mystery       0.76      0.91      0.83      5003\n",
      "        romance       0.60      0.73      0.66      1762\n",
      "science fiction       0.72      0.64      0.68      5217\n",
      "          sport       0.81      0.84      0.83      1181\n",
      "       thriller       0.51      1.00      0.68       798\n",
      "            war       0.71      0.73      0.72      2429\n",
      "\n",
      "    avg / total       0.75      0.81      0.78     51973\n",
      "\n"
     ]
    }
   ],
   "source": [
    "results.append(benchmark(clf, 'bernoulli - alpha - 0.005'))"
   ]
  },
  {
   "cell_type": "markdown",
   "metadata": {},
   "source": [
    "Plot F1 scores"
   ]
  },
  {
   "cell_type": "code",
   "execution_count": 188,
   "metadata": {
    "collapsed": false
   },
   "outputs": [
    {
     "data": {
      "image/png": "[encoded data removed]",
      "text/plain": [
       "<matplotlib.figure.Figure at 0x1fee08d0>"
      ]
     },
     "metadata": {},
     "output_type": "display_data"
    }
   ],
   "source": [
    "%matplotlib inline\n",
    "\n",
    "indices = np.arange(len(results))\n",
    "results_final = [[x[i] for x in results] for i in range(5)]\n",
    "clf_names, f1_micro, f1_macro, f1_weighted, f1_samples = results_final\n",
    "width = 0.25\n",
    "fig = plt.figure(figsize=(12, 5))\n",
    "s = fig.add_subplot(111)\n",
    "plt.title(\"Score\")\n",
    "s.bar(indices + width, f1_micro, .2, label=\"score F1 micro\", color='green')\n",
    "s.bar(indices + 2*width, f1_macro, .2, label=\"score F1 macro\", color='blue')\n",
    "s.bar(indices + 3*width, f1_weighted, .2, label=\"score F1 weighted\", color='orange')\n",
    "s.bar(indices + 4*width, f1_samples, .2, label=\"score F1 samples\", color='yellow')\n",
    "s.legend(bbox_to_anchor=(1.05, 1), loc=2, borderaxespad=0.)\n",
    "s.set_xlim(0, 1.5)\n",
    "\n",
    "for i, c in zip(indices, clf_names):\n",
    "    plt.text(-.4, i, c)\n",
    "\n",
    "plt.show()"
   ]
  },
  {
   "cell_type": "markdown",
   "metadata": {},
   "source": [
    "ADVANCED: Sklearn does not have multi-class metrics, this shows how libscore metrics work."
   ]
  },
  {
   "cell_type": "markdown",
   "metadata": {},
   "source": [
    "## Unit testing"
   ]
  },
  {
   "cell_type": "markdown",
   "metadata": {},
   "source": [
    "It is <b><span style=\"color:red\">important that you test your submission files before submitting them</span></b>. All you have to do to make a submission is modify the file <code>classifier.py</code> in the <code>sample_code/</code> directory, then run this test to make sure everything works fine. This is the actual program that will be run on the server to test your submission.  The program looks for saved results and saved models in the subdirectory <code>res/</code>. If it finds them, it will use them: (1) If results are found, then are copied to the output directory; (2) If no results but a trained model is found, it is reloaded and no training occurs; (3) If nothing is found a fresh model is trained and tested."
   ]
  },
  {
   "cell_type": "code",
   "execution_count": 196,
   "metadata": {
    "collapsed": false,
    "scrolled": true
   },
   "outputs": [],
   "source": [
    "outdir = './res'         # If you use result_dir as output directory, your submission will include your results"
   ]
  },
  {
   "cell_type": "code",
   "execution_count": 197,
   "metadata": {
    "collapsed": false,
    "scrolled": false
   },
   "outputs": [
    {
     "name": "stdout",
     "output_type": "stream",
     "text": [
      "Using input_dir: public_data/\n",
      "Using output_dir: C:\\Users\\Gabriel\\Desktop\\starting_kit\\starting_kit\\starting_kit\\res\n",
      "************************************************************************\n",
      "****** Attempting to copy files (from res/) for RESULT submission ******\n",
      "************************************************************************\n",
      "[-] Missing result files\n",
      "======== Some missing results on current datasets!\n",
      "======== Proceeding to train/test:\n",
      "\n",
      "************************************************\n",
      "******** Processing dataset Movies ********\n",
      "************************************************\n",
      "========= Reading and converting data ==========\n",
      "Info file NOT found : C:\\Users\\Gabriel\\Desktop\\starting_kit\\starting_kit\\starting_kit\\public_data\\movies_public.info\n",
      "Reading public_data\\movies_train.data...\n",
      "Converting {} to correct array\n",
      "Converting public_data\\movies_train.data to sparse list\n",
      "Reading public_data\\movies_test.data...\n",
      "Converting {} to correct array\n",
      "Converting public_data\\movies_test.data to sparse list\n",
      "Reading public_data\\movies_valid.data...\n",
      "Converting {} to correct array\n",
      "Converting public_data\\movies_valid.data to sparse list\n",
      "========= Reading public_data/movies_feat.type\n",
      "[+] Success in  0.01 sec\n",
      "========= Reading public_data/movies_train.data\n",
      "Reading public_data/movies_train.data...\n",
      "Converting {} to correct array\n",
      "Converting public_data/movies_train.data to sparse list\n",
      "\tConverting sparse list to dok sparse matrix\n",
      "\tConverting dok sparse matrix to csr sparse matrix\n",
      "[+] Success in 34.30 sec\n",
      "========= Reading public_data/movies_train.solution\n",
      "[+] Success in  0.18 sec\n",
      "========= Reading public_data/movies_valid.data\n",
      "Reading public_data/movies_valid.data...\n",
      "Converting {} to correct array\n",
      "Converting public_data/movies_valid.data to sparse list\n",
      "\tConverting sparse list to dok sparse matrix\n",
      "\tConverting dok sparse matrix to csr sparse matrix\n",
      "[+] Success in  4.40 sec\n",
      "========= Reading public_data/movies_test.data\n",
      "Reading public_data/movies_test.data...\n",
      "Converting {} to correct array\n",
      "Converting public_data/movies_test.data to sparse list\n",
      "\tConverting sparse list to dok sparse matrix\n",
      "\tConverting dok sparse matrix to csr sparse matrix\n",
      "[+] Success in  6.67 sec\n",
      "DataManager : movies\n",
      "info:\n",
      "\ttask = multilabel.classification\n",
      "\tvalid_num = 3402\n",
      "\thas_categorical = 0\n",
      "\tfeat_type = Mixed\n",
      "\tformat = sparse\n",
      "\tmetric = auc_metric\n",
      "\ttarget_type = Binary\n",
      "\ttest_num = 5105\n",
      "\tlabel_num = 14\n",
      "\ttarget_num = 14\n",
      "\ttrain_num = 25521\n",
      "\thas_missing = 0\n",
      "\tusage = No Info File\n",
      "\tfeat_num = 102592\n",
      "\ttime_budget = 600\n",
      "\tis_sparse = 1\n",
      "\tname = movies\n",
      "data:\n",
      "\tX_train = array(25521, 102592)\n",
      "\tY_train = array(25521L, 14L)\n",
      "\tX_valid = array(3402, 102592)\n",
      "\tX_test = array(5105, 102592)\n",
      "feat_type:\tarray(102592L,)\n",
      "feat_idx:\tarray(102592L,)\n",
      "\n",
      "[+] Size of uploaded data  64.00 bytes\n",
      "[+] Cumulated time budget (all tasks so far)  500.00 sec\n",
      "[+] Time budget for this task 500.00 sec\n",
      "[+] Remaining time after reading data 443.83 sec\n",
      "======== Creating model ==========\n",
      "**********************************************************************\n",
      "****** Attempting to reload model (from res/) to avoid training ******\n",
      "**********************************************************************\n",
      "[+] Model reloaded, no need to train!\n",
      "========= Zipping this directory to prepare for submit ==============\n",
      "See: ../sample_submission_16-12-08-15-37.zip\n",
      "[+] Done\n",
      "[+] Overall time spent 65.50 sec ::  Overall time budget 500.00 sec\n"
     ]
    }
   ],
   "source": [
    "!python run.py $datadir $outdir"
   ]
  },
  {
   "cell_type": "markdown",
   "metadata": {
    "collapsed": true
   },
   "source": [
    "## Making your submission\n",
    "\n",
    "The test program <code>run.py</code> prepares your <code>zip</code> file, ready to go. You find it in the directory above where you ran your program. For large datasets, we recommend that <b><span style=\"color:red\">you do NOT bundle the data with your submission</span></b>. The data directory is passed as an argument to run.py, and it is already there on the test server."
   ]
  },
  {
   "cell_type": "code",
   "execution_count": null,
   "metadata": {
    "collapsed": true
   },
   "outputs": [],
   "source": []
  }
 ],
 "metadata": {
  "anaconda-cloud": {},
  "kernelspec": {
   "display_name": "Python [conda env:py2]",
   "language": "python",
   "name": "conda-env-py2-py"
  },
  "language_info": {
   "codemirror_mode": {
    "name": "ipython",
    "version": 2
   },
   "file_extension": ".py",
   "mimetype": "text/x-python",
   "name": "python",
   "nbconvert_exporter": "python",
   "pygments_lexer": "ipython2",
   "version": "2.7.12"
  }
 },
 "nbformat": 4,
 "nbformat_minor": 0
}
